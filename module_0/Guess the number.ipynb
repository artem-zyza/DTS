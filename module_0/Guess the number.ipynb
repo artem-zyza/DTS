{
 "cells": [
  {
   "cell_type": "code",
   "execution_count": 1,
   "metadata": {},
   "outputs": [],
   "source": [
    "import numpy as np\n",
    "\n",
    "\n",
    "def score_game(game_core_v4):\n",
    "    '''Запускаем игру 1000 раз, чтоб узнать как быстро игра угадывает число'''\n",
    "    count_ls = []\n",
    "    np.random.seed(1)  # фиксируем RANDOM SEED, чтобы ваш эксперимент был воспроизводим!\n",
    "    random_array = np.random.randint(100, size=(1000))\n",
    "    for number in random_array:\n",
    "        count_ls.append(game_core_v4(number))\n",
    "    score = int(np.mean(count_ls))\n",
    "    print(f\"Ваш алгоритм угадывает число в среднем за {score} попыток\")\n",
    "    return score\n",
    "\n",
    "\n",
    "def game_core_v4(number):\n",
    "    '''Начинаем угадывать с числа, равного 3-ей четверти диапазона, в большинстве случаев загаданное число\n",
    "       будет меньше загаданного. Пока это так, будем называть число каждый раз вдвое меньше нашего\n",
    "       начального числа.\n",
    "       Как только мы узнаём, что загаданное число больше названного нами, начинаем перебор чисел \n",
    "       увеличением на один.\n",
    "       Если целочисленное деление на 2 больше недоступно, также начинаем перебор по одному на увеличение \n",
    "       или уменьшение, в зависимости от того, больше наше число в итоге или меньше загаданного.\n",
    "       Функция принимает загаданное число и возвращает число попыток'''\n",
    "    max_range = 99 # Верхняя граница диапазона, в котором будет загадано число\n",
    "    min_range = 1 # Нижняя граница диапазона. Используем в зависимости от условий задачи (если отличается от 1)\n",
    "    predict = int(max_range * 0.75) # Начинаем с границы 3-ей четверти диапазона. Только целые числа\n",
    "    \n",
    "    count = 1                   # Счётчик попыток. Начинаем с 1 т.к. сразу называем определённое число\n",
    "    while number != predict:    # Запускаем цикл, который работает, пока не угадаем число\n",
    "        while number < predict: # Запускаем цикл пока загаданное число меньше предложенного нами\n",
    "            count += 1                   \n",
    "            predict = int(predict / 2) # Используем только целочисленные значения исходя из условия\n",
    "        if number > predict:    # Если загаданное число больше предложенного нами, находим его увеличением на 1\n",
    "            count += 1\n",
    "            predict += 1\n",
    "        elif number < predict:  # Это условие запускается когда мы больше не можем делить наше число на 2,\n",
    "            count += 1          # но оно всё ещё больше загаданного. Уменьшаем наше число на 1\n",
    "            predict -= 1        \n",
    "    return count                # Функция возвращает число попыток, за которые было угадано число"
   ]
  },
  {
   "cell_type": "code",
   "execution_count": 2,
   "metadata": {},
   "outputs": [
    {
     "name": "stdout",
     "output_type": "stream",
     "text": [
      "Ваш алгоритм угадывает число в среднем за 14 попыток\n"
     ]
    },
    {
     "data": {
      "text/plain": [
       "14"
      ]
     },
     "execution_count": 2,
     "metadata": {},
     "output_type": "execute_result"
    }
   ],
   "source": [
    "score_game(game_core_v4)"
   ]
  },
  {
   "cell_type": "code",
   "execution_count": null,
   "metadata": {},
   "outputs": [],
   "source": []
  }
 ],
 "metadata": {
  "kernelspec": {
   "display_name": "Python 3",
   "language": "python",
   "name": "python3"
  },
  "language_info": {
   "codemirror_mode": {
    "name": "ipython",
    "version": 3
   },
   "file_extension": ".py",
   "mimetype": "text/x-python",
   "name": "python",
   "nbconvert_exporter": "python",
   "pygments_lexer": "ipython3",
   "version": "3.7.6"
  }
 },
 "nbformat": 4,
 "nbformat_minor": 4
}
